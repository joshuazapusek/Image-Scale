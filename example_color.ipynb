{
 "cells": [
  {
   "cell_type": "markdown",
   "metadata": {},
   "source": [
    "## Example of Identifying Reference Object in Scene"
   ]
  },
  {
   "cell_type": "markdown",
   "metadata": {},
   "source": [
    "Source: https://dev.to/erol/object-detection-with-color-knl"
   ]
  },
  {
   "cell_type": "code",
   "execution_count": 63,
   "metadata": {},
   "outputs": [],
   "source": [
    "import cv2\n",
    "import numpy as np\n",
    "from collections import deque\n",
    "import math\n",
    "import os.path"
   ]
  },
  {
   "cell_type": "code",
   "execution_count": null,
   "metadata": {},
   "outputs": [],
   "source": [
    "buffer_size = 16\n",
    "pts = deque(maxlen=buffer_size)"
   ]
  },
  {
   "cell_type": "code",
   "execution_count": 3,
   "metadata": {},
   "outputs": [],
   "source": [
    "# Using HSV: Hue, Saturation and Value for representing color in images to then detect\n",
    "# Define upper and lower thresholds for the reference object in hsv\n",
    "# ref_lower = (0, 0, 150)\n",
    "# ref_upper = (255, 20, 255)\n",
    "\n",
    "# ref_lower = (0, 0, 0)\n",
    "# ref_upper = (255, 70, 30)\n",
    "\n",
    "ref_lower = (100, 100, 100)\n",
    "ref_upper = (140, 255, 200)"
   ]
  },
  {
   "cell_type": "code",
   "execution_count": 4,
   "metadata": {},
   "outputs": [],
   "source": [
    "# Read image\n",
    "image = cv2.imread(\"C:/Users/jzapu/Image_Scaling/mspaint_test.jpg\")\n",
    "# imaget = cv2.imread(\"C:/Users/jzapu/Image_Scaling/img2.jpg\")"
   ]
  },
  {
   "cell_type": "code",
   "execution_count": 5,
   "metadata": {},
   "outputs": [],
   "source": [
    "# We will be applying gaussian smoothing, then HSV conversion, then opening (Erosian -> Dilation) to preprocess image for targeting\n",
    "# Gaussian Operation\n",
    "blur_image = cv2.GaussianBlur(image, (11, 11), 0)\n",
    "# RGB -> HSV\n",
    "hsv = cv2.cvtColor(blur_image, cv2.COLOR_BGR2HSV)\n",
    "# Morphology: Opening Image\n",
    "# Define Mask for Operation\n",
    "mask = cv2.inRange(hsv, ref_lower, ref_upper)\n",
    "mask = cv2.erode(mask, None, iterations=2)\n",
    "mask = cv2.dilate(mask, None, iterations=2)"
   ]
  },
  {
   "cell_type": "code",
   "execution_count": 6,
   "metadata": {},
   "outputs": [],
   "source": [
    "# Now noise is gone: find edges of reference object (all edges)\n",
    "contours,_ = cv2.findContours(mask.copy(), cv2.RETR_EXTERNAL, cv2.CHAIN_APPROX_SIMPLE)\n",
    "center = None"
   ]
  },
  {
   "cell_type": "code",
   "execution_count": 7,
   "metadata": {},
   "outputs": [
    {
     "name": "stdout",
     "output_type": "stream",
     "text": [
      "(1810, 2023) ((1810.9439697265625, 2020.49560546875), (445.7012939453125, 324.5749816894531), 89.41537475585938)\n"
     ]
    }
   ],
   "source": [
    "# Find coordinates in image to draw the target shape outline\n",
    "if (len(contours) > 0):\n",
    "    target = max(contours, key=cv2.contourArea)\n",
    "    # (x,y), radius = cv2.minEnclosingCircle(target)\n",
    "    rect = cv2.minAreaRect(target)\n",
    "    # center = (int(x),int(y))\n",
    "    # radius = int(radius)\n",
    "    ((x,y), (width, height), rotation) = rect\n",
    "    s = f\"x {np.round(x)}, y: {np.round(y)}, width: {np.round(width)}, height: {np.round(height)}, rotation: {np.round(rotation)}\"\n",
    "    box = cv2.boxPoints(rect)\n",
    "    box = np.int64(box)\n",
    "    M = cv2.moments(target)\n",
    "    center = (int(M[\"m10\"] / M[\"m00\"]), int(M[\"m01\"] / M[\"m00\"]))\n",
    "    # out = cv2.circle(image, center, radius, (0, 255, 0), 4)\n",
    "    cv2.circle(image, center, 5, (255, 0, 255), -1)\n",
    "    cv2.drawContours(image, [box], 0, (255, 0, 0), 4)\n",
    "    fin =  cv2.putText(image, s, (25, 50), cv2.FONT_HERSHEY_COMPLEX_SMALL, 2, (200, 0, 50), 2)\n",
    "    cv2.imwrite('testout.jpg', fin)\n",
    "    cv2.imshow(\"TEST\", fin)\n",
    "    cv2.waitKey(0)\n",
    "    cv2.destroyAllWindows()\n",
    "    print(center, rect)\n",
    "else:\n",
    "    print(\"Error with thresholds\")"
   ]
  },
  {
   "cell_type": "code",
   "execution_count": null,
   "metadata": {},
   "outputs": [],
   "source": [
    "# For identifying multiple windows in scene - will not use for P2\n",
    "num_windows = 0\n",
    "rect_arr = []\n",
    "box_arr = []\n",
    "for i in range(len(contours)):\n",
    "    target = max(contours, key=cv2.contourArea)\n",
    "    num_windows = num_windows + 1\n",
    "    rect = cv2.minAreaRect(contours[i])\n",
    "    rect_arr.append(rect)\n",
    "    ((x,y), (width, height), rotation) = rect\n",
    "    box = cv2.boxPoints(rect)\n",
    "    box = np.int64(box)\n",
    "    box_arr.append(box)\n",
    "    M = cv2.moments(target)\n",
    "    center = (int(M[\"m10\"] / M[\"m00\"]), int(M[\"m01\"] / M[\"m00\"]))\n",
    "    #cv2.circle(image, center, 5, (255, 0, 255), -1)\n",
    "    cv2.drawContours(image, [box], 0, (255, 0, 0), 4)\n"
   ]
  },
  {
   "cell_type": "code",
   "execution_count": 8,
   "metadata": {},
   "outputs": [
    {
     "data": {
      "text/plain": [
       "True"
      ]
     },
     "execution_count": 8,
     "metadata": {},
     "output_type": "execute_result"
    }
   ],
   "source": [
    "# If needed, crop image to bottom of wall\n",
    "im = cv2.imread('./p2_test3.jpeg', cv2.IMREAD_GRAYSCALE)\n",
    "cropped_image = im[0:box[3][1], 0:4032]\n",
    "cv2.imwrite(\"cropped.jpg\", cropped_image)"
   ]
  },
  {
   "cell_type": "code",
   "execution_count": null,
   "metadata": {},
   "outputs": [],
   "source": [
    "# Checking where opencv decided to order the box edges \n",
    "for i in box:\n",
    "    cv2.circle(image,(i[0],i[1]), 3, (0,255,0), -1)\n",
    "    cv2.imshow(\"TEST\", fin)\n",
    "    cv2.waitKey(0)\n",
    "    cv2.destroyAllWindows()"
   ]
  },
  {
   "cell_type": "code",
   "execution_count": null,
   "metadata": {},
   "outputs": [
    {
     "data": {
      "text/plain": [
       "True"
      ]
     },
     "execution_count": 30,
     "metadata": {},
     "output_type": "execute_result"
    }
   ],
   "source": [
    "# Perspective Transform\n",
    "srcpts = np.float32([box[0], box[1], box[2], box[3]])\n"
   ]
  },
  {
   "cell_type": "code",
   "execution_count": null,
   "metadata": {},
   "outputs": [],
   "source": [
    "# Gets ordered cw from upper left (index 1 is row not 0 - wtf)\n",
    "print(image.shape)\n",
    "print(box[0][1])\n",
    "print(box[1][1])\n",
    "print(box[0][0])\n",
    "print(box[1][0])\n",
    "print(box[1])\n",
    "print(box[0])\n",
    "print(box[2])\n",
    "print(box[3])\n",
    "print(box[0][0])\n",
    "print(box[3][0])\n",
    "print(box[2][0])\n",
    "print(box)\n",
    "print(box[3][1])"
   ]
  },
  {
   "cell_type": "code",
   "execution_count": 9,
   "metadata": {},
   "outputs": [
    {
     "name": "stdout",
     "output_type": "stream",
     "text": [
      "18.092835065875875 27.95039824936325\n"
     ]
    }
   ],
   "source": [
    "# Getting pixel -> feet conversion\n",
    "# Define Wight and Height of the reference in pixels\n",
    "refWidth = 2.0\n",
    "refHeight = 3.0\n",
    "# Ratio: Pixels / Foot\n",
    "widthRatio = refWidth / width\n",
    "heightRatio = refHeight / height\n",
    "# Dims of image\n",
    "rows, cols, ch = image.shape\n",
    "sideHeight = heightRatio * rows\n",
    "sideWidth = widthRatio * cols\n",
    "print(sideWidth, sideHeight)"
   ]
  },
  {
   "cell_type": "code",
   "execution_count": 10,
   "metadata": {},
   "outputs": [
    {
     "data": {
      "text/plain": [
       "True"
      ]
     },
     "execution_count": 10,
     "metadata": {},
     "output_type": "execute_result"
    }
   ],
   "source": [
    "# Write image for white - black image\n",
    "image[image != 0] = 255 # change everything to white where pixel is not black\n",
    "cv2.imwrite('bw_image.jpg', image)"
   ]
  },
  {
   "cell_type": "code",
   "execution_count": 11,
   "metadata": {},
   "outputs": [
    {
     "name": "stdout",
     "output_type": "stream",
     "text": [
      "60 95\n"
     ]
    }
   ],
   "source": [
    "# Car width in feet\n",
    "cart_width = 0.427\n",
    "# Car width in pixels \n",
    "block_width = math.floor(cart_width / widthRatio)\n",
    "# Car height in feet\n",
    "cart_height = 0.558\n",
    "# Car height in pixels \n",
    "block_height = math.floor(cart_height / heightRatio)\n",
    "print(block_height, block_width)"
   ]
  },
  {
   "cell_type": "code",
   "execution_count": 12,
   "metadata": {},
   "outputs": [],
   "source": [
    "# Get length and width of image \n",
    "matrix_rows = math.floor(rows / block_height)\n",
    "matrix_cols = math.floor(cols / block_width)\n",
    "matrix_out = [[0 for x in range(matrix_cols)] for y in range(matrix_rows)]"
   ]
  },
  {
   "cell_type": "code",
   "execution_count": null,
   "metadata": {},
   "outputs": [
    {
     "data": {
      "text/plain": [
       "True"
      ]
     },
     "execution_count": 50,
     "metadata": {},
     "output_type": "execute_result"
    }
   ],
   "source": [
    "\n",
    "# Need greyscale for comparing pixel values\n",
    "im_gray = im\n",
    "cv2.imwrite('bw_image.jpg', im_gray)"
   ]
  },
  {
   "cell_type": "code",
   "execution_count": null,
   "metadata": {},
   "outputs": [],
   "source": [
    "\n",
    "# Loop over image and fill output matrix for path plan\n",
    "clean_threshold = 80\n",
    "start_pixel_row = 0\n",
    "clean_blocks = 0\n",
    "for i in range(matrix_rows):\n",
    "    # Set starting pixel starting points\n",
    "    start_pixel_col = 0\n",
    "    for j in range(matrix_cols):\n",
    "        #print(\"j = {}, i = {}\".format(i, j))\n",
    "        # Loop over all pixels in block \n",
    "        #   if # black pixels greater than threshold then no go - o.w. yes clean -> 255\n",
    "        zero_count = 0\n",
    "        for u in range(start_pixel_row, start_pixel_row + block_height):\n",
    "            for v in range(start_pixel_col, start_pixel_col + block_width):\n",
    "                #print(\"u = {}, v = {}\".format(u, v))\n",
    "                if im[u, v] == 0:\n",
    "                    zero_count = zero_count + 1\n",
    "        if zero_count < clean_threshold:\n",
    "            matrix_out[i][j] = 255;\n",
    "            clean_blocks = clean_blocks + 1\n",
    "        # Update starting pixel values\n",
    "        # Row value same\n",
    "        # Col value inc by block width\n",
    "        start_pixel_col = start_pixel_col + block_width\n",
    "    start_pixel_row = start_pixel_row + block_height"
   ]
  },
  {
   "cell_type": "code",
   "execution_count": 85,
   "metadata": {},
   "outputs": [
    {
     "data": {
      "text/plain": [
       "True"
      ]
     },
     "execution_count": 85,
     "metadata": {},
     "output_type": "execute_result"
    }
   ],
   "source": [
    "# Convert to image \n",
    "final_blocks = np.asarray(matrix_out)\n",
    "cv2.imwrite('scale_out.jpg', final_blocks)"
   ]
  },
  {
   "cell_type": "code",
   "execution_count": 86,
   "metadata": {},
   "outputs": [],
   "source": [
    "# Pad matrix with 0s \n",
    "blocks = np.pad(final_blocks, 1)"
   ]
  },
  {
   "cell_type": "code",
   "execution_count": 77,
   "metadata": {},
   "outputs": [
    {
     "name": "stdout",
     "output_type": "stream",
     "text": [
      "(52, 44)\n"
     ]
    }
   ],
   "source": [
    "print(blocks.shape)"
   ]
  },
  {
   "cell_type": "code",
   "execution_count": null,
   "metadata": {},
   "outputs": [],
   "source": [
    "with open('block_file.txt', 'w') as f:\n",
    "    for item in final_blocks:\n",
    "        f.write(\"%s\\n\" % item)"
   ]
  },
  {
   "cell_type": "code",
   "execution_count": 83,
   "metadata": {},
   "outputs": [],
   "source": [
    "# Create File for video ouput \n",
    "save_path = 'C:/Users/jzapu/Image_Scaling/OutputArr'"
   ]
  },
  {
   "cell_type": "markdown",
   "metadata": {},
   "source": [
    "# Getting Instruction Set 'L,R,U,D' for Robot"
   ]
  },
  {
   "cell_type": "code",
   "execution_count": 87,
   "metadata": {},
   "outputs": [],
   "source": [
    "# Need to interpolate size of image to see it properly \n",
    "scale_percent = 60\n",
    "width = int(blocks.shape[1] * scale_percent)\n",
    "height = int(blocks.shape[0] * scale_percent)\n",
    "dim = (width, height)\n",
    "# Instructions \n",
    "instr_priorities = ['D', 'L', 'R', 'U', 'B']\n",
    "instr_set = []\n",
    "# D = Down; L = Left; R = Right; U = Up, B = Back (Reverse)\n",
    "# Need a visited list for reverse function \n",
    "visited = []\n",
    "# Need to track if all blocks have been cleaned\n",
    "cleaned = 1\n",
    "# Number of steps \n",
    "steps = 0\n",
    "index = 0\n",
    "# Start Position is lower right corner \n",
    "start_pos = (50, 42)\n",
    "blocks[50, 42] = 0\n",
    "current_pos = start_pos\n",
    "row = 50\n",
    "col = 42\n",
    "# Push starting block to visited stack\n",
    "visited.append(start_pos)\n",
    "# Loop over matrix\n",
    "while (cleaned < clean_blocks):\n",
    "    # Check Down\n",
    "    if (blocks[row+1][col] == 255):\n",
    "        # Append Instruction\n",
    "        instr_set.append('D')\n",
    "        # Update cleaned block\n",
    "        blocks[row+1][col] = 0\n",
    "        # Count Steps Taken, current position & update row, col\n",
    "        steps = steps + 1\n",
    "        row = row + 1\n",
    "        index = index + 1\n",
    "        cleaned = cleaned + 1\n",
    "        current_pos = (row, col)\n",
    "        # Push block to visited\n",
    "        visited.append(current_pos)\n",
    "        # Write image for video representation\n",
    "        file_name = 'video{}.jpg'.format(cleaned)\n",
    "        complete_name = os.path.join(save_path, file_name)\n",
    "        cv2.imwrite(complete_name, blocks)\n",
    "        i = cv2.imread(complete_name, cv2.IMREAD_UNCHANGED)\n",
    "        blocks_resized = cv2.resize(i, dim, interpolation=cv2.INTER_CUBIC)\n",
    "        file_name = 'video{}.jpg'.format(cleaned)\n",
    "        complete_name = os.path.join(save_path, file_name)\n",
    "        cv2.imwrite(complete_name, blocks_resized)\n",
    "        # Continue loop\n",
    "        continue\n",
    "    # Check Left\n",
    "    elif (blocks[row][col-1] == 255):\n",
    "        # Append Instruction\n",
    "        instr_set.append('L')\n",
    "        # Update cleaned block\n",
    "        blocks[row][col-1] = 0\n",
    "        # Count Steps Taken, current position & update row, col\n",
    "        steps = steps + 1\n",
    "        index = index + 1\n",
    "        col = col - 1\n",
    "        cleaned = cleaned + 1\n",
    "        current_pos = (row, col)\n",
    "        # Push block to visited\n",
    "        visited.append(current_pos)\n",
    "        # Write image for video representation\n",
    "        file_name = 'video{}.jpg'.format(cleaned)\n",
    "        complete_name = os.path.join(save_path, file_name)\n",
    "        cv2.imwrite(complete_name, blocks)\n",
    "        i = cv2.imread(complete_name, cv2.IMREAD_UNCHANGED)\n",
    "        blocks_resized = cv2.resize(i, dim, interpolation=cv2.INTER_CUBIC)\n",
    "        file_name = 'video{}.jpg'.format(cleaned)\n",
    "        complete_name = os.path.join(save_path, file_name)\n",
    "        cv2.imwrite(complete_name, blocks_resized)\n",
    "        # Continue loop\n",
    "        continue\n",
    "    # Check Right \n",
    "    elif (blocks[row][col+1] == 255):\n",
    "        # Append Instruction\n",
    "        instr_set.append('R')\n",
    "        # Update cleaned block\n",
    "        blocks[row][col+1] = 0\n",
    "        # Count Steps Taken, current position & update row, col\n",
    "        steps = steps + 1\n",
    "        index = index + 1\n",
    "        col = col + 1\n",
    "        cleaned = cleaned + 1\n",
    "        current_pos = (row, col)\n",
    "        # Push block to visited\n",
    "        visited.append(current_pos)\n",
    "        # Write image for video representation\n",
    "        file_name = 'video{}.jpg'.format(cleaned)\n",
    "        complete_name = os.path.join(save_path, file_name)\n",
    "        cv2.imwrite(complete_name, blocks)\n",
    "        i = cv2.imread(complete_name, cv2.IMREAD_UNCHANGED)\n",
    "        blocks_resized = cv2.resize(i, dim, interpolation=cv2.INTER_CUBIC)\n",
    "        file_name = 'video{}.jpg'.format(cleaned)\n",
    "        complete_name = os.path.join(save_path, file_name)\n",
    "        cv2.imwrite(complete_name, blocks_resized)\n",
    "        # Continue loop\n",
    "        continue\n",
    "    # Check Up\n",
    "    elif (blocks[row-1][col] == 255):\n",
    "        # Append Instruction\n",
    "        instr_set.append('U')\n",
    "        # Update cleaned block\n",
    "        blocks[row-1][col] = 0\n",
    "        # Count Steps Taken, current position & update row, col\n",
    "        steps = steps + 1\n",
    "        index = index + 1\n",
    "        row = row - 1\n",
    "        cleaned = cleaned + 1\n",
    "        current_pos = (row, col)\n",
    "        # Push block to visited\n",
    "        visited.append(current_pos)\n",
    "        # Write image for video representation\n",
    "        file_name = 'video{}.jpg'.format(cleaned)\n",
    "        complete_name = os.path.join(save_path, file_name)\n",
    "        cv2.imwrite(complete_name, blocks)\n",
    "        i = cv2.imread(complete_name, cv2.IMREAD_UNCHANGED)\n",
    "        blocks_resized = cv2.resize(i, dim, interpolation=cv2.INTER_CUBIC)\n",
    "        file_name = 'video{}.jpg'.format(cleaned)\n",
    "        complete_name = os.path.join(save_path, file_name)\n",
    "        cv2.imwrite(complete_name, blocks_resized)\n",
    "        # Continue loop\n",
    "        continue\n",
    "    # If not Reverse \n",
    "    else:\n",
    "        # Append Instruction\n",
    "        instr_set.append('B')\n",
    "        # Count Steps Taken, current position & update row, col\n",
    "        # Get former position\n",
    "        current_pos = visited[index-1]\n",
    "        # Pop Current Block\n",
    "        visited.pop()\n",
    "        # Update Steps \n",
    "        steps = steps + 1\n",
    "        index = index - 1\n",
    "        row = current_pos[0]\n",
    "        col = current_pos[1]\n",
    "        # Continue loop\n",
    "        continue\n"
   ]
  },
  {
   "cell_type": "code",
   "execution_count": 88,
   "metadata": {},
   "outputs": [
    {
     "name": "stdout",
     "output_type": "stream",
     "text": [
      "1694\n",
      "1 41\n",
      "1630\n"
     ]
    }
   ],
   "source": [
    "print(steps)\n",
    "print(row, col)\n",
    "print(cleaned)"
   ]
  },
  {
   "cell_type": "code",
   "execution_count": 89,
   "metadata": {},
   "outputs": [],
   "source": [
    "with open('InstructionSet.txt', 'w') as f:\n",
    "    for item in instr_set:\n",
    "        f.write(\"%s\" % item)"
   ]
  },
  {
   "cell_type": "code",
   "execution_count": 90,
   "metadata": {},
   "outputs": [],
   "source": [
    "# Create Video Represenation of Cleaning \n",
    "video_name = 'video.avi'\n",
    "images = [img for img in os.listdir(save_path) if img.endswith(\".jpg\")]\n",
    "frame = cv2.imread(os.path.join(save_path, images[0]))\n",
    "height, width, layers = frame.shape\n",
    "video = cv2.VideoWriter(video_name, 0, 1, (width, height))\n",
    "for i in images:\n",
    "    video.write(cv2.imread(os.path.join(save_path, i)))\n",
    "\n",
    "cv2.destroyAllWindows()\n",
    "video.release()"
   ]
  },
  {
   "cell_type": "markdown",
   "metadata": {},
   "source": [
    "### Below are for getting all dimensions - not needed here"
   ]
  },
  {
   "cell_type": "code",
   "execution_count": null,
   "metadata": {},
   "outputs": [
    {
     "name": "stdout",
     "output_type": "stream",
     "text": [
      "9.072000000000001 25.401600000000002\n"
     ]
    }
   ],
   "source": [
    "# Get Total length and width of the side\n",
    "#############################################\n",
    "# Dims of image\n",
    "rows, cols, ch = image.shape\n",
    "sideHeight = heightRatio * cols\n",
    "sideWidth = widthRatio * rows\n",
    "print(sideWidth, sideHeight)\n",
    "\n",
    "# Draw Lines\n",
    "image = cv2.line(image, (0, 0), (0, 500), (0, 255, 255), 2)\n",
    "image = cv2.line(image, (0, 0), (500, 0), (0, 255, 255), 2)"
   ]
  },
  {
   "cell_type": "code",
   "execution_count": null,
   "metadata": {},
   "outputs": [
    {
     "name": "stdout",
     "output_type": "stream",
     "text": [
      "8\n",
      "[[4014 1633]\n",
      " [4019 1633]\n",
      " [4019 1637]\n",
      " [4014 1637]]\n",
      "[[3707 1205]\n",
      " [3711 1205]\n",
      " [3711 1210]\n",
      " [3707 1210]]\n",
      "4014 8\n"
     ]
    }
   ],
   "source": [
    "# Get end-of-image to first / last window distance\n",
    "# First Window:\n",
    "print(num_windows)\n",
    "print(box_arr[0])\n",
    "print(box_arr[3])\n",
    "left_padding = box_arr[0][0][0] - 0\n",
    "# Last Window\n",
    "right_padding = cols - box_arr[2][1][0] \n",
    "# NOTE: Looks like cv2 going CCW with the box points \n",
    "print(left_padding, right_padding)\n",
    "\n",
    "# Draw Lines\n",
    "left_start_point = (0, box_arr[0][0][1])\n",
    "left_end_point = (box_arr[0][0][0], box_arr[0][0][1])\n",
    "right_start_point = (cols, box_arr[2][1][1])\n",
    "right_end_point = (box_arr[2][1][0], box_arr[2][1][1])\n",
    "image = cv2.line(image, left_start_point, left_end_point, (0, 255, 255), 2)\n",
    "image = cv2.line(image, right_start_point, right_end_point, (0, 255, 255), 2)"
   ]
  },
  {
   "cell_type": "code",
   "execution_count": null,
   "metadata": {},
   "outputs": [],
   "source": [
    "# Get Top - bottom distance (top / bottom of image - to - window blackout)\n",
    "bottom_padding = cols - box_arr[0][2][1]\n",
    "top_padding = box_arr[0][2][1] - 0\n",
    "\n",
    "# Draw Lines\n",
    "\n",
    "image = cv2.line(image, (box_arr[3][0][0], 0), (box_arr[3][0][0], box_arr[3][0][1]), (0, 255, 255), 2)\n",
    "image = cv2.line(image, (box_arr[3][0][0], box_arr[3][3][1]), (box_arr[3][0][0], cols), (0, 255, 255), 2)"
   ]
  },
  {
   "cell_type": "code",
   "execution_count": null,
   "metadata": {},
   "outputs": [],
   "source": [
    "# Get Distance between windows \n",
    "# MAP\n",
    "# arr[4] -> 1\n",
    "# arr[6] -> 2\n",
    "# arr[3] -> 3\n",
    "\n",
    "d1 = box_arr[6][0][0] - box_arr[4][1][0]\n",
    "d2 = box_arr[3][0][0] - box_arr[6][1][0]\n",
    "image = cv2.line(image, (box_arr[4][1][0], box_arr[4][1][1]), (box_arr[6][0][0], box_arr[6][0][1]), (0, 255, 255), 2)\n",
    "image = cv2.line(image, (box_arr[6][1][0], box_arr[6][1][1]), (box_arr[3][0][0], box_arr[3][0][1]), (0, 255, 255), 2)"
   ]
  },
  {
   "cell_type": "code",
   "execution_count": null,
   "metadata": {},
   "outputs": [],
   "source": [
    "# SHow and Save\n",
    "cv2.imshow(\"TEST\", image)\n",
    "cv2.waitKey(0)\n",
    "cv2.destroyAllWindows()\n",
    "#cv2.imwrite('LinesDrawn.jpg', image)"
   ]
  },
  {
   "cell_type": "code",
   "execution_count": null,
   "metadata": {},
   "outputs": [
    {
     "data": {
      "text/plain": [
       "True"
      ]
     },
     "execution_count": 49,
     "metadata": {},
     "output_type": "execute_result"
    }
   ],
   "source": [
    "cv2.imshow('Windows Space Determined', image)\n",
    "cv2.waitKey(0)\n",
    "cv2.destroyAllWindows()\n",
    "cv2.imwrite('windowOut.jpg', image)"
   ]
  },
  {
   "cell_type": "code",
   "execution_count": null,
   "metadata": {},
   "outputs": [
    {
     "name": "stdout",
     "output_type": "stream",
     "text": [
      "[[ 43 443]\n",
      " [ 47 443]\n",
      " [ 47 449]\n",
      " [ 43 449]]\n",
      "[[ 43 383]\n",
      " [ 47 383]\n",
      " [ 47 388]\n",
      " [ 43 388]]\n",
      "[[448 270]\n",
      " [453 270]\n",
      " [453 274]\n",
      " [448 274]]\n",
      "[[363 267]\n",
      " [449 265]\n",
      " [454 456]\n",
      " [368 458]]\n",
      "[[ 47 261]\n",
      " [132 261]\n",
      " [132 458]\n",
      " [ 47 458]]\n",
      "[[439 260]\n",
      " [443 260]\n",
      " [443 264]\n",
      " [439 264]]\n",
      "[[207 255]\n",
      " [295 255]\n",
      " [295 452]\n",
      " [207 452]]\n"
     ]
    }
   ],
   "source": [
    "print(box_arr[0])\n",
    "print(box_arr[1])\n",
    "print(box_arr[2])\n",
    "print(box_arr[3])\n",
    "print(box_arr[4])\n",
    "print(box_arr[5])\n",
    "print(box_arr[6])"
   ]
  },
  {
   "cell_type": "code",
   "execution_count": null,
   "metadata": {},
   "outputs": [
    {
     "name": "stdout",
     "output_type": "stream",
     "text": [
      "3770 2501\n"
     ]
    }
   ],
   "source": [
    "# Perspective transform\n",
    "# NOTE: MAY WANT TO ADD A ROTATION IF ON A SLANT LIKE IN THIS IMAGE\n",
    "\n",
    "# Dims of image\n",
    "rows, cols, ch = image.shape\n",
    "\n",
    "print (rows, cols)\n"
   ]
  },
  {
   "cell_type": "code",
   "execution_count": null,
   "metadata": {},
   "outputs": [
    {
     "name": "stdout",
     "output_type": "stream",
     "text": [
      "0.0030110388831515737 0.0062926639901208555\n"
     ]
    }
   ],
   "source": [
    "# Get feet / pixel value for reference - use for getting full image \n",
    "pwidth = rect[1][0]\n",
    "pheight = rect[1][1]\n",
    "# Calculate the Feet / Pixel\n",
    "wratio = refWidth / pwidth\n",
    "hratio = refHeight / pheight\n",
    "\n",
    "print(wratio, hratio)"
   ]
  },
  {
   "cell_type": "code",
   "execution_count": null,
   "metadata": {},
   "outputs": [
    {
     "name": "stdout",
     "output_type": "stream",
     "text": [
      "11.351616589481432 15.73795263929226\n"
     ]
    }
   ],
   "source": [
    "# Output length and width of wall\n",
    "sideHeight = hratio * cols\n",
    "sideWidth = wratio * rows\n",
    "print(sideWidth, sideHeight)"
   ]
  },
  {
   "cell_type": "code",
   "execution_count": null,
   "metadata": {},
   "outputs": [
    {
     "name": "stdout",
     "output_type": "stream",
     "text": [
      "[[1376 2434]\n",
      " [2011 2413]\n",
      " [2045 3408]\n",
      " [1409 3430]]\n"
     ]
    }
   ],
   "source": [
    "print(box)"
   ]
  },
  {
   "cell_type": "code",
   "execution_count": null,
   "metadata": {},
   "outputs": [
    {
     "name": "stdout",
     "output_type": "stream",
     "text": [
      "[[-4.72887730e-03  1.61589777e-04  9.11985612e+00]\n",
      " [ 1.33161157e-04  4.02653976e-03 -9.98382753e+00]\n",
      " [-1.47211344e-06  1.68547735e-06  1.00000000e+00]]\n"
     ]
    }
   ],
   "source": [
    "# Perspective Transform \n",
    "# 2DBox starts from bottom right corner and goes clockwise\n",
    "ppts = np.float32(box)\n",
    "pts = np.float32([[refWidth, 0], [0, 0], [0, refHeight], [refWidth, refHeight]])\n",
    "M = cv2.getPerspectiveTransform(ppts, pts)\n",
    "print(M)"
   ]
  },
  {
   "cell_type": "code",
   "execution_count": null,
   "metadata": {},
   "outputs": [
    {
     "ename": "error",
     "evalue": "OpenCV(4.5.3) :-1: error: (-5:Bad argument) in function 'warpPerspective'\n> Overload resolution failed:\n>  - Can't parse 'dsize'. Sequence item with index 0 has a wrong type\n>  - Can't parse 'dsize'. Sequence item with index 0 has a wrong type\n",
     "output_type": "error",
     "traceback": [
      "\u001b[1;31m---------------------------------------------------------------------------\u001b[0m",
      "\u001b[1;31merror\u001b[0m                                     Traceback (most recent call last)",
      "\u001b[1;32m~\\AppData\\Local\\Temp/ipykernel_22852/526655366.py\u001b[0m in \u001b[0;36m<module>\u001b[1;34m\u001b[0m\n\u001b[1;32m----> 1\u001b[1;33m \u001b[0mout\u001b[0m \u001b[1;33m=\u001b[0m \u001b[0mcv2\u001b[0m\u001b[1;33m.\u001b[0m\u001b[0mwarpPerspective\u001b[0m\u001b[1;33m(\u001b[0m\u001b[0mimage\u001b[0m\u001b[1;33m,\u001b[0m \u001b[0mM\u001b[0m\u001b[1;33m,\u001b[0m \u001b[1;33m(\u001b[0m\u001b[0mrefWidth\u001b[0m\u001b[1;33m,\u001b[0m \u001b[0mrefHeight\u001b[0m\u001b[1;33m)\u001b[0m\u001b[1;33m)\u001b[0m\u001b[1;33m\u001b[0m\u001b[1;33m\u001b[0m\u001b[0m\n\u001b[0m",
      "\u001b[1;31merror\u001b[0m: OpenCV(4.5.3) :-1: error: (-5:Bad argument) in function 'warpPerspective'\n> Overload resolution failed:\n>  - Can't parse 'dsize'. Sequence item with index 0 has a wrong type\n>  - Can't parse 'dsize'. Sequence item with index 0 has a wrong type\n"
     ]
    }
   ],
   "source": [
    "out = cv2.warpPerspective(image, M, (refWidth, refHeight))"
   ]
  },
  {
   "cell_type": "code",
   "execution_count": null,
   "metadata": {},
   "outputs": [
    {
     "data": {
      "text/plain": [
       "-1"
      ]
     },
     "execution_count": 19,
     "metadata": {},
     "output_type": "execute_result"
    }
   ],
   "source": [
    "cv2.imshow(\"HERE\", out)\n",
    "cv2.waitKey(0)"
   ]
  }
 ],
 "metadata": {
  "interpreter": {
   "hash": "9d5ab794ce9c417f502f52bc3779d6ed620da768d06bd54aa69d5807c666f464"
  },
  "kernelspec": {
   "display_name": "Python 3.9.2 64-bit",
   "name": "python3"
  },
  "language_info": {
   "codemirror_mode": {
    "name": "ipython",
    "version": 3
   },
   "file_extension": ".py",
   "mimetype": "text/x-python",
   "name": "python",
   "nbconvert_exporter": "python",
   "pygments_lexer": "ipython3",
   "version": "3.9.2"
  },
  "orig_nbformat": 4
 },
 "nbformat": 4,
 "nbformat_minor": 2
}
