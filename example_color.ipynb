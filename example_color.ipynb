{
 "cells": [
  {
   "cell_type": "markdown",
   "source": [
    "## Example of Identifying Reference Object in Scene"
   ],
   "metadata": {}
  },
  {
   "cell_type": "markdown",
   "source": [
    "Source: https://dev.to/erol/object-detection-with-color-knl"
   ],
   "metadata": {}
  },
  {
   "cell_type": "code",
   "execution_count": 16,
   "source": [
    "import cv2\r\n",
    "import numpy as np\r\n",
    "from collections import deque"
   ],
   "outputs": [],
   "metadata": {}
  },
  {
   "cell_type": "code",
   "execution_count": 17,
   "source": [
    "buffer_size = 16\r\n",
    "pts = deque(maxlen=buffer_size)"
   ],
   "outputs": [],
   "metadata": {}
  },
  {
   "cell_type": "code",
   "execution_count": 33,
   "source": [
    "# Using HSV: Hue, Saturation and Value for representing color in images to then detect\r\n",
    "# Define upper and lower thresholds for the reference object in hsv\r\n",
    "ref_lower = (0, 0, 0)\r\n",
    "ref_upper = (250, 70, 30)"
   ],
   "outputs": [],
   "metadata": {}
  },
  {
   "cell_type": "code",
   "execution_count": 24,
   "source": [
    "# Read image\r\n",
    "image = cv2.imread(\"C:/Users/jzapu/Image_Scaling/eg1.jpg\")"
   ],
   "outputs": [],
   "metadata": {}
  },
  {
   "cell_type": "code",
   "execution_count": 29,
   "source": [
    "# See\r\n",
    "cv2.imshow(\"Test Image\", image)\r\n",
    "cv2.waitKey(0)\r\n",
    "cv2.destroyAllWindows()"
   ],
   "outputs": [],
   "metadata": {}
  },
  {
   "cell_type": "code",
   "execution_count": 34,
   "source": [
    "# We will be applying gaussian smoothing, then HSV conversion, then opening (Erosian -> Dilation) to preprocess image for targeting\r\n",
    "# Gaussian Operation\r\n",
    "blur_image = cv2.GaussianBlur(image, (11, 11), 0)\r\n",
    "# RGB -> HSV\r\n",
    "hsv = cv2.cvtColor(blur_image, cv2.COLOR_BGR2HSV)\r\n",
    "# Morphology: Opening Image\r\n",
    "# Define Mask for Operation\r\n",
    "mask = cv2.inRange(hsv, ref_lower, ref_upper)\r\n",
    "mask = cv2.erode(mask, None, iterations=2)\r\n",
    "mask = cv2.dilate(mask, None, iterations=2)"
   ],
   "outputs": [],
   "metadata": {}
  },
  {
   "cell_type": "code",
   "execution_count": 35,
   "source": [
    "# Now noise is gone: find edges of reference object (all edges)\r\n",
    "contours,_ = cv2.findContours(mask.copy(), cv2.RETR_EXTERNAL, cv2.CHAIN_APPROX_SIMPLE)\r\n",
    "center = None"
   ],
   "outputs": [],
   "metadata": {}
  },
  {
   "cell_type": "code",
   "execution_count": 36,
   "source": [
    "# Find coordinates in image to draw the target shape outline\r\n",
    "if (len(contours) > 0):\r\n",
    "    target = max(contours, key=cv2.contourArea)\r\n",
    "    (x,y), radius = cv2.minEnclosingCircle(target)\r\n",
    "    center = (int(x),int(y))\r\n",
    "    radius = int(radius)\r\n",
    "    out = cv2.circle(image, center, radius, (0, 255, 0), 2)\r\n",
    "    cv2.imwrite(\"output.jpg\", out)\r\n",
    "else:\r\n",
    "    print(\"Error with thresholds\")"
   ],
   "outputs": [],
   "metadata": {}
  },
  {
   "cell_type": "code",
   "execution_count": 73,
   "source": [
    "# Print\r\n",
    "cv2.imshow(\"Example Outline\", out)\r\n",
    "cv2.waitKey(0)\r\n",
    "cv2.destroyAllWindows()"
   ],
   "outputs": [],
   "metadata": {}
  }
 ],
 "metadata": {
  "orig_nbformat": 4,
  "language_info": {
   "name": "python",
   "version": "3.9.2",
   "mimetype": "text/x-python",
   "codemirror_mode": {
    "name": "ipython",
    "version": 3
   },
   "pygments_lexer": "ipython3",
   "nbconvert_exporter": "python",
   "file_extension": ".py"
  },
  "kernelspec": {
   "name": "python3",
   "display_name": "Python 3.9.2 64-bit"
  },
  "interpreter": {
   "hash": "9d5ab794ce9c417f502f52bc3779d6ed620da768d06bd54aa69d5807c666f464"
  }
 },
 "nbformat": 4,
 "nbformat_minor": 2
}