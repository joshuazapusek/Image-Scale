{
 "cells": [
  {
   "cell_type": "markdown",
   "source": [
    "## Example of Identifying Reference Object in Scene"
   ],
   "metadata": {}
  },
  {
   "cell_type": "markdown",
   "source": [
    "Source: https://dev.to/erol/object-detection-with-color-knl"
   ],
   "metadata": {}
  },
  {
   "cell_type": "code",
   "execution_count": 1,
   "source": [
    "import cv2\r\n",
    "import numpy as np\r\n",
    "from collections import deque"
   ],
   "outputs": [],
   "metadata": {}
  },
  {
   "cell_type": "code",
   "execution_count": 2,
   "source": [
    "buffer_size = 16\r\n",
    "pts = deque(maxlen=buffer_size)"
   ],
   "outputs": [],
   "metadata": {}
  },
  {
   "cell_type": "code",
   "execution_count": 3,
   "source": [
    "# Using HSV: Hue, Saturation and Value for representing color in images to then detect\r\n",
    "# Define upper and lower thresholds for the reference object in hsv\r\n",
    "ref_upper = (0, 0, 0)\r\n",
    "ref_lower = (0, 75, 65)"
   ],
   "outputs": [],
   "metadata": {}
  },
  {
   "cell_type": "code",
   "execution_count": 4,
   "source": [
    "# Read image\r\n",
    "image = cv2.imread(\"eg1.png\")"
   ],
   "outputs": [],
   "metadata": {}
  },
  {
   "cell_type": "code",
   "execution_count": null,
   "source": [],
   "outputs": [],
   "metadata": {}
  }
 ],
 "metadata": {
  "orig_nbformat": 4,
  "language_info": {
   "name": "python",
   "version": "3.9.2",
   "mimetype": "text/x-python",
   "codemirror_mode": {
    "name": "ipython",
    "version": 3
   },
   "pygments_lexer": "ipython3",
   "nbconvert_exporter": "python",
   "file_extension": ".py"
  },
  "kernelspec": {
   "name": "python3",
   "display_name": "Python 3.9.2 64-bit"
  },
  "interpreter": {
   "hash": "9d5ab794ce9c417f502f52bc3779d6ed620da768d06bd54aa69d5807c666f464"
  }
 },
 "nbformat": 4,
 "nbformat_minor": 2
}