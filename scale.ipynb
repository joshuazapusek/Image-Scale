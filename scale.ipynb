{
 "cells": [
  {
   "cell_type": "markdown",
   "source": [
    "# House Siding Scaling using Refernece Object"
   ],
   "metadata": {}
  }
 ],
 "metadata": {
  "orig_nbformat": 4,
  "language_info": {
   "name": "python"
  }
 },
 "nbformat": 4,
 "nbformat_minor": 2
}