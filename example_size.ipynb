{
 "cells": [
  {
   "cell_type": "code",
   "execution_count": 1,
   "source": [
    "import cv2\r\n",
    "from scipy.spatial import distance as dist\r\n",
    "from imutils import perspective\r\n",
    "from imutils import contours\r\n",
    "import numpy as np\r\n",
    "import argparse\r\n",
    "import imutils"
   ],
   "outputs": [],
   "metadata": {}
  },
  {
   "cell_type": "code",
   "execution_count": 2,
   "source": [
    "# Get midpoint \r\n",
    "def midpoint(a, b):\r\n",
    "    return ((a[0] + b[0]) * 0.5, (a[1] + b[2]) * 0.5)"
   ],
   "outputs": [],
   "metadata": {}
  },
  {
   "cell_type": "code",
   "execution_count": null,
   "source": [
    "# Read Image\r\n",
    "image = cv2.imread(\"eg.png\")"
   ],
   "outputs": [],
   "metadata": {}
  },
  {
   "cell_type": "code",
   "execution_count": null,
   "source": [
    "# Preprocess\r\n",
    "gray = cv2.cvtColor(image, cv2.COLOR_BGR2GRAY)\r\n",
    "gray = cv2.GaussianBlur(gray, (7, 7), 0)"
   ],
   "outputs": [],
   "metadata": {}
  }
 ],
 "metadata": {
  "orig_nbformat": 4,
  "language_info": {
   "name": "python",
   "version": "3.9.2",
   "mimetype": "text/x-python",
   "codemirror_mode": {
    "name": "ipython",
    "version": 3
   },
   "pygments_lexer": "ipython3",
   "nbconvert_exporter": "python",
   "file_extension": ".py"
  },
  "kernelspec": {
   "name": "python3",
   "display_name": "Python 3.9.2 64-bit"
  },
  "interpreter": {
   "hash": "9d5ab794ce9c417f502f52bc3779d6ed620da768d06bd54aa69d5807c666f464"
  }
 },
 "nbformat": 4,
 "nbformat_minor": 2
}